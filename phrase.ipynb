{
 "cells": [
  {
   "cell_type": "code",
   "execution_count": 14,
   "metadata": {},
   "outputs": [],
   "source": [
    "import numpy as np\n",
    "from sklearn.metrics import accuracy_score\n",
    "from sklearn.linear_model import LogisticRegression\n",
    "from gensim.models import KeyedVectors\n",
    "import re\n",
    "from datasets import load_dataset\n",
    "from sklearn.feature_extraction.text import TfidfVectorizer\n",
    "from scipy.spatial.distance import cosine\n",
    "from xgboost import XGBClassifier"
   ]
  },
  {
   "cell_type": "code",
   "execution_count": 2,
   "metadata": {},
   "outputs": [
    {
     "name": "stderr",
     "output_type": "stream",
     "text": [
      "/var/folders/bx/5r8nh9sd1rsbvh4kw72cdnhh0000gn/T/ipykernel_11887/39640544.py:5: DeprecationWarning: Call to deprecated `init_sims` (Use fill_norms() instead. See https://github.com/RaRe-Technologies/gensim/wiki/Migrating-from-Gensim-3.x-to-4).\n",
      "  model.init_sims(replace=True)\n"
     ]
    }
   ],
   "source": [
    "# Load pre-trained Word2Vec model\n",
    "model = KeyedVectors.load_word2vec_format('./GoogleNews-vectors-negative300.bin', binary=True)\n",
    "\n",
    "# Normalize the vectors\n",
    "model.init_sims(replace=True)"
   ]
  },
  {
   "cell_type": "code",
   "execution_count": 3,
   "metadata": {},
   "outputs": [],
   "source": [
    "def word_tokenizee(text):\n",
    "    # Define a regular expression pattern to match words\n",
    "    pattern = r'\\b\\w+\\b'\n",
    "    \n",
    "    # Use the findall method to extract words from the text\n",
    "    words = re.findall(pattern, text.lower())\n",
    "    \n",
    "    return words"
   ]
  },
  {
   "cell_type": "code",
   "execution_count": 4,
   "metadata": {},
   "outputs": [],
   "source": [
    "def remove_stop_words(phrase):\n",
    "    custom_stop_words = set(['i', 'me', 'my', 'myself', 'we', 'our', 'ours', 'ourselves', 'you', 'your', 'yours', 'yourself', 'yourselves', 'he', 'him', 'his', 'himself', 'she', 'her', 'hers', 'herself', 'it', 'its', 'itself', 'they', 'them', 'their', 'theirs', 'themselves', 'what', 'which', 'who', 'whom', 'this', 'that', 'these', 'those', 'am', 'is', 'are', 'was', 'were', 'be', 'been', 'being', 'have', 'has', 'had', 'having', 'do', 'does', 'did', 'doing', 'a', 'an', 'the', 'and', 'but', 'if', 'or', 'because', 'as', 'until', 'while', 'of', 'at', 'by', 'for', 'with', 'about', 'against', 'between', 'into', 'through', 'during', 'before', 'after', 'above', 'below', 'to', 'from', 'up', 'down', 'in', 'out', 'on', 'off', 'over', 'under', 'again', 'further', 'then', 'once', 'here', 'there', 'when', 'where', 'why', 'how', 'all', 'any', 'both', 'each', 'few', 'more', 'most', 'other', 'some', 'such', 'no', 'nor', 'not', 'only', 'own', 'same', 'so', 'than', 'too', 'very', 's', 't', 'can', 'will', 'just', 'don', 'should', 'now'])\n",
    "    word_tokens = phrase.split()\n",
    "    filtered_phrase = [word for word in word_tokens if word.lower() not in custom_stop_words]\n",
    "    filtered_phrase = ' '.join(filtered_phrase)\n",
    "    return filtered_phrase"
   ]
  },
  {
   "cell_type": "code",
   "execution_count": 5,
   "metadata": {},
   "outputs": [],
   "source": [
    "def get_tfidf_dictionary(train_phrases):\n",
    "    positive_phrases = [pair[0] for pair in train_phrases if pair[2] == 1]\n",
    "    negative_phrases = [pair[1] for pair in train_phrases if pair[2] == 0]\n",
    "    all_phrases = positive_phrases + negative_phrases\n",
    "    tfidf_vectorizer = TfidfVectorizer()\n",
    "    tfidf_matrix = tfidf_vectorizer.fit_transform(all_phrases)\n",
    "    feature_names = tfidf_vectorizer.get_feature_names_out()\n",
    "    print(\"creation started\")\n",
    "    tfidf_dict = {}\n",
    "    for j, word in enumerate(feature_names):\n",
    "        word_tfidf_scores = {}\n",
    "        for i, phrase in enumerate(all_phrases):\n",
    "            score = tfidf_matrix[i, j]\n",
    "            if score > 0:\n",
    "                word_tfidf_scores[phrase] = score\n",
    "        tfidf_dict[word] = word_tfidf_scores\n",
    "    return tfidf_dict"
   ]
  },
  {
   "cell_type": "code",
   "execution_count": 11,
   "metadata": {},
   "outputs": [],
   "source": [
    "\n",
    "def generate_phrase_embedding(phrase, word_embeddings):\n",
    "    tokens = word_tokenizee(phrase.lower())  # Tokenize phrase into words\n",
    "    phrase_embedding = np.zeros(word_embeddings.vector_size)  # Initialize phrase embedding\n",
    "    # total_weight = 0  # Initialize total weight of valid tokens\n",
    "    # for token in tokens:\n",
    "    #     if token in word_embeddings and token in tfidf_dict:\n",
    "    #         tfidf_score = max(tfidf_dict[token].values())  # Use the maximum TF-IDF score for the token\n",
    "    #         phrase_embedding += word_embeddings[token] * tfidf_score  # Add weighted word embedding to phrase embedding\n",
    "    #         total_weight += tfidf_score  # Increment total weight\n",
    "    # if total_weight > 0:\n",
    "    #     phrase_embedding /= total_weight  # Average pooling weighted embeddings\n",
    "    # return phrase_embedding\n",
    "    valid_tokens_count = 0  # Initialize count of valid tokens\n",
    "    for token in tokens:\n",
    "        if token in word_embeddings:\n",
    "            phrase_embedding += word_embeddings[token]  # Add word embedding to phrase embedding\n",
    "            valid_tokens_count += 1  # Increment count of valid tokens\n",
    "    if valid_tokens_count > 0:\n",
    "        phrase_embedding /= valid_tokens_count  # Average pooling embeddings\n",
    "    return phrase_embedding"
   ]
  },
  {
   "cell_type": "code",
   "execution_count": 7,
   "metadata": {},
   "outputs": [],
   "source": [
    "def cosine_similarity(embedding1, embedding2):\n",
    "    similarity = 1 - cosine(embedding1, embedding2)\n",
    "    return similarity"
   ]
  },
  {
   "cell_type": "code",
   "execution_count": 8,
   "metadata": {},
   "outputs": [
    {
     "name": "stdout",
     "output_type": "stream",
     "text": [
      "Dataset Imported\n"
     ]
    }
   ],
   "source": [
    "dataset = load_dataset(\"PiC/phrase_similarity\",split=\"train\")\n",
    "train_phrases=[]\n",
    "for i in range(0,7004):\n",
    "    phrase1=dataset[i][\"phrase1\"]\n",
    "    phrase2=dataset[i][\"phrase2\"]\n",
    "    phrase1=remove_stop_words(phrase1)\n",
    "    phrase2=remove_stop_words(phrase2)\n",
    "    label=dataset[i][\"label\"]\n",
    "    tu=(phrase1,phrase2,label)\n",
    "    train_phrases.append(tu)\n",
    "print(\"Dataset Imported\")\n",
    "#dict1=get_tfidf_dictionary(train_phrases)"
   ]
  },
  {
   "cell_type": "code",
   "execution_count": 16,
   "metadata": {},
   "outputs": [
    {
     "name": "stdout",
     "output_type": "stream",
     "text": [
      "Test Dataset Loaded\n",
      "Accuracy: 0.508\n"
     ]
    },
    {
     "name": "stderr",
     "output_type": "stream",
     "text": [
      "/Library/Frameworks/Python.framework/Versions/3.10/lib/python3.10/site-packages/scipy/spatial/distance.py:622: RuntimeWarning: invalid value encountered in scalar divide\n",
      "  dist = 1.0 - uv / np.sqrt(uu * vv)\n"
     ]
    }
   ],
   "source": [
    "# Generate phrase embeddings for training data\n",
    "dataset1 = load_dataset(\"PiC/phrase_similarity\",split=\"test\")\n",
    "test_phrases=[]\n",
    "for i in range(0,2000):\n",
    "    phrase1=dataset1[i][\"phrase1\"]\n",
    "    phrase2=dataset1[i][\"phrase2\"]\n",
    "    phrase1=remove_stop_words(phrase1)\n",
    "    phrase2=remove_stop_words(phrase2)\n",
    "    label=dataset1[i][\"label\"]\n",
    "    tu=(phrase1,phrase2,label)\n",
    "    test_phrases.append(tu)\n",
    "print(\"Test Dataset Loaded\")\n",
    "train_similarity = []\n",
    "train_labels = []\n",
    "for phrase1, phrase2, label in train_phrases:\n",
    "    embedding1 = generate_phrase_embedding(phrase1, model)\n",
    "    embedding2 = generate_phrase_embedding(phrase2, model)\n",
    "    if np.count_nonzero(embedding1) == 0 or np.count_nonzero(embedding2) == 0:\n",
    "        similarity = 0  # Handle zero division\n",
    "    else:\n",
    "        similarity = cosine_similarity(embedding1, embedding2)  # Calculate similarity\n",
    "    train_similarity.append(similarity)\n",
    "    train_labels.append(label)\n",
    "\n",
    "# Convert lists to arrays\n",
    "train_similarity = np.array(train_similarity).reshape(-1, 1)\n",
    "train_labels = np.array(train_labels)\n",
    "\n",
    "# Train a logistic regression classifier directly on the similarity\n",
    "classifier = LogisticRegression()\n",
    "classifier.fit(train_similarity.reshape(-1, 1), train_labels)\n",
    "\n",
    "\n",
    "# Example test phrases\n",
    "test_similarity = []\n",
    "true_labels = []\n",
    "for phrase1, phrase2, true_label in test_phrases:\n",
    "    embedding1 = generate_phrase_embedding(phrase1, model)\n",
    "    embedding2 = generate_phrase_embedding(phrase2, model)\n",
    "    similarity = cosine_similarity(embedding1, embedding2)  # Calculate similarity\n",
    "    test_similarity.append(similarity)\n",
    "    true_labels.append(true_label)\n",
    "\n",
    "# Convert lists to arrays\n",
    "test_similarity = np.array(test_similarity)\n",
    "\n",
    "# Predict similarity using the trained logistic regression model\n",
    "predicted_labels = classifier.predict(test_similarity.reshape(-1, 1))\n",
    "# Evaluate performance\n",
    "accuracy = accuracy_score(true_labels, predicted_labels)\n",
    "print(\"Accuracy:\", accuracy)"
   ]
  }
 ],
 "metadata": {
  "kernelspec": {
   "display_name": "Python 3",
   "language": "python",
   "name": "python3"
  },
  "language_info": {
   "codemirror_mode": {
    "name": "ipython",
    "version": 3
   },
   "file_extension": ".py",
   "mimetype": "text/x-python",
   "name": "python",
   "nbconvert_exporter": "python",
   "pygments_lexer": "ipython3",
   "version": "3.10.4"
  }
 },
 "nbformat": 4,
 "nbformat_minor": 2
}
