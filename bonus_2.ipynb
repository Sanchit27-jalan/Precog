{
 "cells": [
  {
   "cell_type": "code",
   "execution_count": 5,
   "metadata": {},
   "outputs": [],
   "source": [
    "import json\n",
    "from llamaapi import LlamaAPI\n",
    "from datasets import load_dataset\n",
    "from sklearn.metrics import accuracy_score\n",
    "from tqdm import tqdm"
   ]
  },
  {
   "cell_type": "code",
   "execution_count": 2,
   "metadata": {},
   "outputs": [
    {
     "name": "stdout",
     "output_type": "stream",
     "text": [
      "Starting to Load dataset\n",
      "Dataset Loaded\n"
     ]
    }
   ],
   "source": [
    "llama = LlamaAPI(\"LL-ersxHt3YPuESyyS0PjRdF25rIZGLZQqfmHQLYWrLgsFAwApKPRaCr33DBCFOiAE5\")\n",
    "print(\"Starting to Load dataset\")\n",
    "test_data=load_dataset(\"PiC/phrase_similarity\", split=\"test\")\n",
    "print(\"Dataset Loaded\")\n",
    "# Build the API request"
   ]
  },
  {
   "cell_type": "code",
   "execution_count": 6,
   "metadata": {},
   "outputs": [
    {
     "name": "stderr",
     "output_type": "stream",
     "text": [
      "100%|██████████| 100/100 [06:58<00:00,  4.18s/it]\n"
     ]
    }
   ],
   "source": [
    "results_list = []\n",
    "ground_truth=[]\n",
    "for i in tqdm(range(100)):\n",
    "    word1=test_data[i][\"phrase1\"]\n",
    "    word2=test_data[i][\"phrase2\"]\n",
    "    ground_truth.append(test_data[i][\"label\"])\n",
    "    api_request_json = {\n",
    "        \"messages\": [\n",
    "            {\"role\": \"user\", \"content\": f\"Are {word1} and {word2} similar ? If it is similar, give Yes, then No\" },\n",
    "        ],\n",
    "    }\n",
    "    response = llama.run(api_request_json)\n",
    "    try:\n",
    "        text = response.text\n",
    "        if \"Yes\" in text:\n",
    "            results_list.append(1)\n",
    "        elif \"No\" in text:\n",
    "            results_list.append(0)\n",
    "        else:\n",
    "            results_list.append(0) \n",
    "\n",
    "    except Exception as e:\n",
    "        print(f\"Error: {e}\")\n",
    "        results_list.append(0) "
   ]
  },
  {
   "cell_type": "code",
   "execution_count": 7,
   "metadata": {},
   "outputs": [
    {
     "name": "stdout",
     "output_type": "stream",
     "text": [
      "test accuracy:  44.0\n"
     ]
    }
   ],
   "source": [
    "test_accuracy = accuracy_score(ground_truth, results_list)\n",
    "print(\"test accuracy: \", test_accuracy*100)"
   ]
  }
 ],
 "metadata": {
  "kernelspec": {
   "display_name": "Python 3",
   "language": "python",
   "name": "python3"
  },
  "language_info": {
   "codemirror_mode": {
    "name": "ipython",
    "version": 3
   },
   "file_extension": ".py",
   "mimetype": "text/x-python",
   "name": "python",
   "nbconvert_exporter": "python",
   "pygments_lexer": "ipython3",
   "version": "3.10.4"
  }
 },
 "nbformat": 4,
 "nbformat_minor": 2
}
