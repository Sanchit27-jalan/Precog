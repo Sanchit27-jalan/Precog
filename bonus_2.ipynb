{
 "cells": [
  {
   "cell_type": "code",
   "execution_count": 7,
   "metadata": {},
   "outputs": [],
   "source": [
    "import json\n",
    "from llamaapi import LlamaAPI"
   ]
  },
  {
   "cell_type": "code",
   "execution_count": 8,
   "metadata": {},
   "outputs": [],
   "source": [
    "llama = LlamaAPI(\"LL-ersxHt3YPuESyyS0PjRdF25rIZGLZQqfmHQLYWrLgsFAwApKPRaCr33DBCFOiAE5\")\n",
    "word1=\"old\"\n",
    "word2=\"thinking\"\n",
    "# Build the API request\n",
    "api_request_json = {\n",
    "    \"messages\": [\n",
    "        {\"role\": \"user\", \"content\": f\"Are {word1} and {word2} similar ? If it is similar, give Yes, then No\" },\n",
    "    ],\n",
    "}"
   ]
  },
  {
   "cell_type": "code",
   "execution_count": 9,
   "metadata": {},
   "outputs": [
    {
     "name": "stdout",
     "output_type": "stream",
     "text": [
      "Yes\n"
     ]
    }
   ],
   "source": [
    "response = llama.run(api_request_json)\n",
    "try:\n",
    "    text = response.text\n",
    "    if \"Yes\" in text:\n",
    "        print(\"Yes\")\n",
    "    elif \"No\" in text:\n",
    "        print(\"No\")\n",
    "    else:\n",
    "        print(\"No\")\n",
    "except Exception as e:\n",
    "    print(f\"Error: {e}\")"
   ]
  }
 ],
 "metadata": {
  "kernelspec": {
   "display_name": "Python 3",
   "language": "python",
   "name": "python3"
  },
  "language_info": {
   "codemirror_mode": {
    "name": "ipython",
    "version": 3
   },
   "file_extension": ".py",
   "mimetype": "text/x-python",
   "name": "python",
   "nbconvert_exporter": "python",
   "pygments_lexer": "ipython3",
   "version": "3.10.4"
  }
 },
 "nbformat": 4,
 "nbformat_minor": 2
}
